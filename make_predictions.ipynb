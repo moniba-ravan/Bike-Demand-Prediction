{
  "cells": [
    {
      "cell_type": "markdown",
      "metadata": {
        "id": "y0TuWFn2WaIs"
      },
      "source": [
        "**Do we need more bikes?**"
      ]
    },
    {
      "cell_type": "code",
      "execution_count": 1,
      "metadata": {
        "colab": {
          "base_uri": "https://localhost:8080/"
        },
        "id": "Pgtgnc-wWKxe",
        "outputId": "aa907836-7dcf-4b8c-fec7-3913645b9717"
      },
      "outputs": [],
      "source": [
        "# from google.colab import drive\n",
        "# drive.mount('/content/drive')\n",
        "# dir_path = \"/content/drive/MyDrive/SML-project/\""
      ]
    },
    {
      "cell_type": "code",
      "execution_count": 2,
      "metadata": {
        "id": "uAbdhsmR99Jo"
      },
      "outputs": [],
      "source": [
        "dir_path = \"Data/\""
      ]
    },
    {
      "cell_type": "markdown",
      "metadata": {
        "id": "VBt925E6l8v1"
      },
      "source": [
        "# Hyperparameter Tuning"
      ]
    },
    {
      "cell_type": "code",
      "execution_count": 3,
      "metadata": {
        "id": "2xg5P445l_No"
      },
      "outputs": [],
      "source": [
        "import numpy as np\n",
        "\n",
        "# Number of fold in Cross Validation\n",
        "num_folds = 5\n",
        "seed = 42\n",
        "\n",
        "# Random forest\n",
        "rf_params = {'bootstrap': True, # [True, False]\n",
        "            'class_weight': 'balanced', # [balanced, balanced_subsample, None]\n",
        "            'criterion': 'entropy', #[gini, entropy, log_loss]\n",
        "            'max_depth': None,\n",
        "            'max_features':None,\n",
        "            'min_samples_leaf': 3, # [ 3, 4, 5]\n",
        "            'min_samples_split': 2, # [2, 5]\n",
        "            'n_estimators': 100, # [50, 100, 150]\n",
        "            'random_state': 0,\n",
        "            'verbose': 0,\n",
        "            }"
      ]
    },
    {
      "cell_type": "markdown",
      "metadata": {
        "id": "fIIS4pEGWZl5"
      },
      "source": [
        "# Load Data"
      ]
    },
    {
      "cell_type": "markdown",
      "metadata": {},
      "source": [
        "## Load Train Dataset"
      ]
    },
    {
      "cell_type": "code",
      "execution_count": 4,
      "metadata": {
        "colab": {
          "base_uri": "https://localhost:8080/",
          "height": 0
        },
        "id": "KXgvkpcwny8q",
        "outputId": "f66d0882-54ed-4c56-ad09-b437c90a5f15"
      },
      "outputs": [
        {
          "data": {
            "text/html": [
              "<div>\n",
              "<style scoped>\n",
              "    .dataframe tbody tr th:only-of-type {\n",
              "        vertical-align: middle;\n",
              "    }\n",
              "\n",
              "    .dataframe tbody tr th {\n",
              "        vertical-align: top;\n",
              "    }\n",
              "\n",
              "    .dataframe thead th {\n",
              "        text-align: right;\n",
              "    }\n",
              "</style>\n",
              "<table border=\"1\" class=\"dataframe\">\n",
              "  <thead>\n",
              "    <tr style=\"text-align: right;\">\n",
              "      <th></th>\n",
              "      <th>hour_of_day</th>\n",
              "      <th>day_of_week</th>\n",
              "      <th>month</th>\n",
              "      <th>holiday</th>\n",
              "      <th>weekday</th>\n",
              "      <th>summertime</th>\n",
              "      <th>temp</th>\n",
              "      <th>dew</th>\n",
              "      <th>humidity</th>\n",
              "      <th>precip</th>\n",
              "      <th>snow</th>\n",
              "      <th>snowdepth</th>\n",
              "      <th>windspeed</th>\n",
              "      <th>cloudcover</th>\n",
              "      <th>visibility</th>\n",
              "      <th>increase_stock</th>\n",
              "    </tr>\n",
              "  </thead>\n",
              "  <tbody>\n",
              "    <tr>\n",
              "      <th>0</th>\n",
              "      <td>5</td>\n",
              "      <td>5</td>\n",
              "      <td>1</td>\n",
              "      <td>0</td>\n",
              "      <td>0</td>\n",
              "      <td>0</td>\n",
              "      <td>-7.2</td>\n",
              "      <td>-15.0</td>\n",
              "      <td>53.68</td>\n",
              "      <td>0.0</td>\n",
              "      <td>0</td>\n",
              "      <td>0.0</td>\n",
              "      <td>16.3</td>\n",
              "      <td>31.6</td>\n",
              "      <td>16.0</td>\n",
              "      <td>low_bike_demand</td>\n",
              "    </tr>\n",
              "    <tr>\n",
              "      <th>1</th>\n",
              "      <td>21</td>\n",
              "      <td>4</td>\n",
              "      <td>1</td>\n",
              "      <td>0</td>\n",
              "      <td>1</td>\n",
              "      <td>0</td>\n",
              "      <td>-1.3</td>\n",
              "      <td>-12.8</td>\n",
              "      <td>40.97</td>\n",
              "      <td>0.0</td>\n",
              "      <td>0</td>\n",
              "      <td>0.0</td>\n",
              "      <td>23.9</td>\n",
              "      <td>85.7</td>\n",
              "      <td>16.0</td>\n",
              "      <td>low_bike_demand</td>\n",
              "    </tr>\n",
              "    <tr>\n",
              "      <th>2</th>\n",
              "      <td>21</td>\n",
              "      <td>3</td>\n",
              "      <td>8</td>\n",
              "      <td>0</td>\n",
              "      <td>1</td>\n",
              "      <td>1</td>\n",
              "      <td>26.9</td>\n",
              "      <td>21.8</td>\n",
              "      <td>73.39</td>\n",
              "      <td>0.0</td>\n",
              "      <td>0</td>\n",
              "      <td>0.0</td>\n",
              "      <td>0.0</td>\n",
              "      <td>81.1</td>\n",
              "      <td>16.0</td>\n",
              "      <td>low_bike_demand</td>\n",
              "    </tr>\n",
              "    <tr>\n",
              "      <th>3</th>\n",
              "      <td>1</td>\n",
              "      <td>6</td>\n",
              "      <td>1</td>\n",
              "      <td>0</td>\n",
              "      <td>0</td>\n",
              "      <td>0</td>\n",
              "      <td>3.1</td>\n",
              "      <td>-4.0</td>\n",
              "      <td>59.74</td>\n",
              "      <td>0.0</td>\n",
              "      <td>0</td>\n",
              "      <td>0.0</td>\n",
              "      <td>19.2</td>\n",
              "      <td>0.0</td>\n",
              "      <td>16.0</td>\n",
              "      <td>low_bike_demand</td>\n",
              "    </tr>\n",
              "    <tr>\n",
              "      <th>4</th>\n",
              "      <td>17</td>\n",
              "      <td>0</td>\n",
              "      <td>3</td>\n",
              "      <td>0</td>\n",
              "      <td>1</td>\n",
              "      <td>0</td>\n",
              "      <td>11.7</td>\n",
              "      <td>-11.4</td>\n",
              "      <td>18.71</td>\n",
              "      <td>0.0</td>\n",
              "      <td>0</td>\n",
              "      <td>0.0</td>\n",
              "      <td>10.5</td>\n",
              "      <td>44.6</td>\n",
              "      <td>16.0</td>\n",
              "      <td>low_bike_demand</td>\n",
              "    </tr>\n",
              "  </tbody>\n",
              "</table>\n",
              "</div>"
            ],
            "text/plain": [
              "   hour_of_day  day_of_week  month  holiday  weekday  summertime  temp   dew  \\\n",
              "0            5            5      1        0        0           0  -7.2 -15.0   \n",
              "1           21            4      1        0        1           0  -1.3 -12.8   \n",
              "2           21            3      8        0        1           1  26.9  21.8   \n",
              "3            1            6      1        0        0           0   3.1  -4.0   \n",
              "4           17            0      3        0        1           0  11.7 -11.4   \n",
              "\n",
              "   humidity  precip  snow  snowdepth  windspeed  cloudcover  visibility  \\\n",
              "0     53.68     0.0     0        0.0       16.3        31.6        16.0   \n",
              "1     40.97     0.0     0        0.0       23.9        85.7        16.0   \n",
              "2     73.39     0.0     0        0.0        0.0        81.1        16.0   \n",
              "3     59.74     0.0     0        0.0       19.2         0.0        16.0   \n",
              "4     18.71     0.0     0        0.0       10.5        44.6        16.0   \n",
              "\n",
              "    increase_stock  \n",
              "0  low_bike_demand  \n",
              "1  low_bike_demand  \n",
              "2  low_bike_demand  \n",
              "3  low_bike_demand  \n",
              "4  low_bike_demand  "
            ]
          },
          "execution_count": 4,
          "metadata": {},
          "output_type": "execute_result"
        }
      ],
      "source": [
        "import pandas as pd\n",
        "dataset_path = dir_path + \"training_data.csv\"\n",
        "train_data = pd.read_csv(dataset_path, delimiter=',')\n",
        "output_name = 'increase_stock'\n",
        "train_data.head(5)"
      ]
    },
    {
      "cell_type": "markdown",
      "metadata": {},
      "source": [
        "## Load Test Dataset"
      ]
    },
    {
      "cell_type": "code",
      "execution_count": 5,
      "metadata": {},
      "outputs": [
        {
          "data": {
            "text/html": [
              "<div>\n",
              "<style scoped>\n",
              "    .dataframe tbody tr th:only-of-type {\n",
              "        vertical-align: middle;\n",
              "    }\n",
              "\n",
              "    .dataframe tbody tr th {\n",
              "        vertical-align: top;\n",
              "    }\n",
              "\n",
              "    .dataframe thead th {\n",
              "        text-align: right;\n",
              "    }\n",
              "</style>\n",
              "<table border=\"1\" class=\"dataframe\">\n",
              "  <thead>\n",
              "    <tr style=\"text-align: right;\">\n",
              "      <th></th>\n",
              "      <th>hour_of_day</th>\n",
              "      <th>day_of_week</th>\n",
              "      <th>month</th>\n",
              "      <th>holiday</th>\n",
              "      <th>weekday</th>\n",
              "      <th>summertime</th>\n",
              "      <th>temp</th>\n",
              "      <th>dew</th>\n",
              "      <th>humidity</th>\n",
              "      <th>precip</th>\n",
              "      <th>snow</th>\n",
              "      <th>snowdepth</th>\n",
              "      <th>windspeed</th>\n",
              "      <th>cloudcover</th>\n",
              "      <th>visibility</th>\n",
              "    </tr>\n",
              "  </thead>\n",
              "  <tbody>\n",
              "    <tr>\n",
              "      <th>0</th>\n",
              "      <td>14</td>\n",
              "      <td>0</td>\n",
              "      <td>1</td>\n",
              "      <td>0</td>\n",
              "      <td>1</td>\n",
              "      <td>0</td>\n",
              "      <td>-1.7</td>\n",
              "      <td>-1.9</td>\n",
              "      <td>98.86</td>\n",
              "      <td>2.434</td>\n",
              "      <td>0</td>\n",
              "      <td>2.96</td>\n",
              "      <td>33.0</td>\n",
              "      <td>100.0</td>\n",
              "      <td>3.3</td>\n",
              "    </tr>\n",
              "    <tr>\n",
              "      <th>1</th>\n",
              "      <td>14</td>\n",
              "      <td>5</td>\n",
              "      <td>3</td>\n",
              "      <td>0</td>\n",
              "      <td>0</td>\n",
              "      <td>0</td>\n",
              "      <td>14.3</td>\n",
              "      <td>2.2</td>\n",
              "      <td>43.93</td>\n",
              "      <td>0.000</td>\n",
              "      <td>0</td>\n",
              "      <td>0.00</td>\n",
              "      <td>16.4</td>\n",
              "      <td>44.6</td>\n",
              "      <td>16.0</td>\n",
              "    </tr>\n",
              "    <tr>\n",
              "      <th>2</th>\n",
              "      <td>18</td>\n",
              "      <td>3</td>\n",
              "      <td>1</td>\n",
              "      <td>0</td>\n",
              "      <td>1</td>\n",
              "      <td>0</td>\n",
              "      <td>11.1</td>\n",
              "      <td>7.8</td>\n",
              "      <td>80.07</td>\n",
              "      <td>0.000</td>\n",
              "      <td>0</td>\n",
              "      <td>0.00</td>\n",
              "      <td>7.7</td>\n",
              "      <td>99.2</td>\n",
              "      <td>16.0</td>\n",
              "    </tr>\n",
              "    <tr>\n",
              "      <th>3</th>\n",
              "      <td>2</td>\n",
              "      <td>2</td>\n",
              "      <td>1</td>\n",
              "      <td>1</td>\n",
              "      <td>1</td>\n",
              "      <td>0</td>\n",
              "      <td>1.3</td>\n",
              "      <td>-3.2</td>\n",
              "      <td>71.95</td>\n",
              "      <td>0.000</td>\n",
              "      <td>0</td>\n",
              "      <td>0.00</td>\n",
              "      <td>0.0</td>\n",
              "      <td>94.3</td>\n",
              "      <td>16.0</td>\n",
              "    </tr>\n",
              "    <tr>\n",
              "      <th>4</th>\n",
              "      <td>15</td>\n",
              "      <td>0</td>\n",
              "      <td>5</td>\n",
              "      <td>0</td>\n",
              "      <td>1</td>\n",
              "      <td>1</td>\n",
              "      <td>16.1</td>\n",
              "      <td>1.6</td>\n",
              "      <td>37.47</td>\n",
              "      <td>0.000</td>\n",
              "      <td>0</td>\n",
              "      <td>0.00</td>\n",
              "      <td>33.7</td>\n",
              "      <td>86.8</td>\n",
              "      <td>16.0</td>\n",
              "    </tr>\n",
              "  </tbody>\n",
              "</table>\n",
              "</div>"
            ],
            "text/plain": [
              "   hour_of_day  day_of_week  month  holiday  weekday  summertime  temp  dew  \\\n",
              "0           14            0      1        0        1           0  -1.7 -1.9   \n",
              "1           14            5      3        0        0           0  14.3  2.2   \n",
              "2           18            3      1        0        1           0  11.1  7.8   \n",
              "3            2            2      1        1        1           0   1.3 -3.2   \n",
              "4           15            0      5        0        1           1  16.1  1.6   \n",
              "\n",
              "   humidity  precip  snow  snowdepth  windspeed  cloudcover  visibility  \n",
              "0     98.86   2.434     0       2.96       33.0       100.0         3.3  \n",
              "1     43.93   0.000     0       0.00       16.4        44.6        16.0  \n",
              "2     80.07   0.000     0       0.00        7.7        99.2        16.0  \n",
              "3     71.95   0.000     0       0.00        0.0        94.3        16.0  \n",
              "4     37.47   0.000     0       0.00       33.7        86.8        16.0  "
            ]
          },
          "execution_count": 5,
          "metadata": {},
          "output_type": "execute_result"
        }
      ],
      "source": [
        "import pandas as pd\n",
        "dataset_path = dir_path + \"test_data.csv\"\n",
        "test_data = pd.read_csv(dataset_path, delimiter=',')\n",
        "test_data.head(5)"
      ]
    },
    {
      "cell_type": "markdown",
      "metadata": {
        "id": "OcDGYQQnoj3v"
      },
      "source": [
        "# Data Preprocessing"
      ]
    },
    {
      "cell_type": "code",
      "execution_count": 6,
      "metadata": {
        "id": "W_MnjeY1okzf"
      },
      "outputs": [],
      "source": [
        "label_mapping = {\"low_bike_demand\": 0, 'high_bike_demand': 1}\n",
        "feature_names = train_data.columns[:-1]\n",
        "class_names = list(label_mapping)"
      ]
    },
    {
      "cell_type": "code",
      "execution_count": 7,
      "metadata": {
        "colab": {
          "base_uri": "https://localhost:8080/",
          "height": 163
        },
        "id": "YgKRjXKQCVlc",
        "outputId": "1a91dad4-17c7-4a0e-82ec-170f3b3c3130"
      },
      "outputs": [
        {
          "data": {
            "text/html": [
              "<div>\n",
              "<style scoped>\n",
              "    .dataframe tbody tr th:only-of-type {\n",
              "        vertical-align: middle;\n",
              "    }\n",
              "\n",
              "    .dataframe tbody tr th {\n",
              "        vertical-align: top;\n",
              "    }\n",
              "\n",
              "    .dataframe thead th {\n",
              "        text-align: right;\n",
              "    }\n",
              "</style>\n",
              "<table border=\"1\" class=\"dataframe\">\n",
              "  <thead>\n",
              "    <tr style=\"text-align: right;\">\n",
              "      <th></th>\n",
              "      <th>hour_of_day</th>\n",
              "      <th>day_of_week</th>\n",
              "      <th>month</th>\n",
              "      <th>holiday</th>\n",
              "      <th>weekday</th>\n",
              "      <th>summertime</th>\n",
              "      <th>temp</th>\n",
              "      <th>dew</th>\n",
              "      <th>humidity</th>\n",
              "      <th>precip</th>\n",
              "      <th>snow</th>\n",
              "      <th>snowdepth</th>\n",
              "      <th>windspeed</th>\n",
              "      <th>cloudcover</th>\n",
              "      <th>visibility</th>\n",
              "      <th>increase_stock</th>\n",
              "    </tr>\n",
              "  </thead>\n",
              "  <tbody>\n",
              "    <tr>\n",
              "      <th>0</th>\n",
              "      <td>5</td>\n",
              "      <td>5</td>\n",
              "      <td>1</td>\n",
              "      <td>0</td>\n",
              "      <td>0</td>\n",
              "      <td>0</td>\n",
              "      <td>-7.2</td>\n",
              "      <td>-15.0</td>\n",
              "      <td>53.68</td>\n",
              "      <td>0.0</td>\n",
              "      <td>0</td>\n",
              "      <td>0.0</td>\n",
              "      <td>16.3</td>\n",
              "      <td>31.6</td>\n",
              "      <td>16.0</td>\n",
              "      <td>0</td>\n",
              "    </tr>\n",
              "    <tr>\n",
              "      <th>1</th>\n",
              "      <td>21</td>\n",
              "      <td>4</td>\n",
              "      <td>1</td>\n",
              "      <td>0</td>\n",
              "      <td>1</td>\n",
              "      <td>0</td>\n",
              "      <td>-1.3</td>\n",
              "      <td>-12.8</td>\n",
              "      <td>40.97</td>\n",
              "      <td>0.0</td>\n",
              "      <td>0</td>\n",
              "      <td>0.0</td>\n",
              "      <td>23.9</td>\n",
              "      <td>85.7</td>\n",
              "      <td>16.0</td>\n",
              "      <td>0</td>\n",
              "    </tr>\n",
              "    <tr>\n",
              "      <th>2</th>\n",
              "      <td>21</td>\n",
              "      <td>3</td>\n",
              "      <td>8</td>\n",
              "      <td>0</td>\n",
              "      <td>1</td>\n",
              "      <td>1</td>\n",
              "      <td>26.9</td>\n",
              "      <td>21.8</td>\n",
              "      <td>73.39</td>\n",
              "      <td>0.0</td>\n",
              "      <td>0</td>\n",
              "      <td>0.0</td>\n",
              "      <td>0.0</td>\n",
              "      <td>81.1</td>\n",
              "      <td>16.0</td>\n",
              "      <td>0</td>\n",
              "    </tr>\n",
              "  </tbody>\n",
              "</table>\n",
              "</div>"
            ],
            "text/plain": [
              "   hour_of_day  day_of_week  month  holiday  weekday  summertime  temp   dew  \\\n",
              "0            5            5      1        0        0           0  -7.2 -15.0   \n",
              "1           21            4      1        0        1           0  -1.3 -12.8   \n",
              "2           21            3      8        0        1           1  26.9  21.8   \n",
              "\n",
              "   humidity  precip  snow  snowdepth  windspeed  cloudcover  visibility  \\\n",
              "0     53.68     0.0     0        0.0       16.3        31.6        16.0   \n",
              "1     40.97     0.0     0        0.0       23.9        85.7        16.0   \n",
              "2     73.39     0.0     0        0.0        0.0        81.1        16.0   \n",
              "\n",
              "   increase_stock  \n",
              "0               0  \n",
              "1               0  \n",
              "2               0  "
            ]
          },
          "execution_count": 7,
          "metadata": {},
          "output_type": "execute_result"
        }
      ],
      "source": [
        "# Encode categorical variables\n",
        "train_data[output_name] = train_data[output_name].map(label_mapping)\n",
        "train_data.head(3)"
      ]
    },
    {
      "cell_type": "code",
      "execution_count": 8,
      "metadata": {
        "colab": {
          "base_uri": "https://localhost:8080/"
        },
        "id": "0YUuPXUNqzoC",
        "outputId": "9cf422ff-c3f4-4e15-fe4e-2085d882f65e"
      },
      "outputs": [
        {
          "data": {
            "text/plain": [
              "((1600, 15), (1600,))"
            ]
          },
          "execution_count": 8,
          "metadata": {},
          "output_type": "execute_result"
        }
      ],
      "source": [
        "# Split the train data into X and y\n",
        "y = train_data.loc[:, output_name].to_numpy()\n",
        "X = train_data.loc[:, train_data.columns != output_name].to_numpy()\n",
        "X.shape, y.shape"
      ]
    },
    {
      "cell_type": "code",
      "execution_count": 9,
      "metadata": {},
      "outputs": [],
      "source": [
        "# test dataset\n",
        "test_X = test_data.to_numpy()"
      ]
    },
    {
      "cell_type": "markdown",
      "metadata": {
        "id": "Nyz-MAuUeuGC"
      },
      "source": [
        "# Feature Selection"
      ]
    },
    {
      "cell_type": "code",
      "execution_count": 10,
      "metadata": {
        "id": "P54Aa9C0e0rq"
      },
      "outputs": [
        {
          "data": {
            "text/plain": [
              "(1600, 13)"
            ]
          },
          "execution_count": 10,
          "metadata": {},
          "output_type": "execute_result"
        }
      ],
      "source": [
        "# train dataset\n",
        "dropped_col = [ 10, 11]  # snow & snow_depth\n",
        "X_dropped = np.delete(X, dropped_col, axis=1)\n",
        "feature_names_dropped = np.array([feature_names[i] for i in range(len(feature_names)) if i not in dropped_col])\n",
        "\n",
        "X_dropped.shape"
      ]
    },
    {
      "cell_type": "code",
      "execution_count": 11,
      "metadata": {},
      "outputs": [
        {
          "data": {
            "text/plain": [
              "(400, 13)"
            ]
          },
          "execution_count": 11,
          "metadata": {},
          "output_type": "execute_result"
        }
      ],
      "source": [
        "# test dataset\n",
        "dropped_col = [ 10, 11]  # snow & snow_depth\n",
        "test_X_dropped = np.delete(test_X, dropped_col, axis=1)\n",
        "test_X_dropped.shape"
      ]
    },
    {
      "cell_type": "markdown",
      "metadata": {
        "id": "ZRmCIhjAmAIj"
      },
      "source": [
        "# Feature Scaling"
      ]
    },
    {
      "cell_type": "code",
      "execution_count": 12,
      "metadata": {
        "id": "SWoVoNM2ow1b"
      },
      "outputs": [],
      "source": [
        "# training dataset\n",
        "from sklearn.preprocessing import StandardScaler, MinMaxScaler\n",
        "# scaler = MinMaxScaler()\n",
        "scaler = StandardScaler()\n",
        "X_normalized = scaler.fit_transform(X_dropped)\n"
      ]
    },
    {
      "cell_type": "code",
      "execution_count": 13,
      "metadata": {},
      "outputs": [],
      "source": [
        "# test dataset\n",
        "test_X_normalized = scaler.transform(test_X_dropped)"
      ]
    },
    {
      "cell_type": "markdown",
      "metadata": {
        "id": "j4cEWurIomP9"
      },
      "source": [
        "# Final Models"
      ]
    },
    {
      "cell_type": "markdown",
      "metadata": {
        "id": "HjZJQYF44Qq7"
      },
      "source": [
        "## 4. Tree-based methods"
      ]
    },
    {
      "cell_type": "code",
      "execution_count": 14,
      "metadata": {
        "id": "JAQ6trT34bMJ"
      },
      "outputs": [],
      "source": [
        "\n",
        "from sklearn.tree import DecisionTreeClassifier\n",
        "from sklearn.ensemble import RandomForestClassifier\n",
        "from sklearn.ensemble import BaggingClassifier\n",
        "from sklearn.model_selection import GridSearchCV\n",
        "from sklearn.metrics import *\n",
        "import matplotlib.pyplot as plt\n",
        "import seaborn as sns\n",
        "from sklearn.tree import plot_tree\n",
        "\n",
        "\n",
        "# plt.ion()\n",
        "\n",
        "\n",
        "class RandomForest:\n",
        "\n",
        "    def __init__(self, params, verbose = True):\n",
        "        self.verbose = verbose\n",
        "        # self.dropped_col = [10, 11] #[3, 5, 10, 11, 14]\n",
        "        self.model = RandomForestClassifier(**params)\n",
        "\n",
        "        # Perform Grid Search\n",
        "        # rf = RandomForestClassifier(random_state=42)\n",
        "        # self.model = GridSearchCV(rf, param_grid=params, cv=5, scoring='accuracy')\n",
        "\n",
        "\n",
        "    def fit(self, X_train, y_train):\n",
        "        X_train_preprocessed = self.preprocessing(X_train, y_train)\n",
        "        return self.model.fit(X_train_preprocessed, y_train)\n",
        "\n",
        "    def predict(self, X_valid):\n",
        "        X_test_preprocessed = self.preprocessing(X_valid)\n",
        "        # return self.model.best_estimator_.predict(X_test_preprocessed)\n",
        "        return self.model.predict(X_test_preprocessed)\n",
        "\n",
        "    def predict_proba(self, X_test):\n",
        "        X_test_preprocessed = self.preprocessing(X_test)\n",
        "        return self.model.predict_proba(X_test_preprocessed)\n",
        "\n",
        "    def preprocessing(self, X, y=None):\n",
        "        # X_dropped = np.delete(X, self.dropped_col, axis=1)\n",
        "        return X\n",
        "\n",
        "    def get_params(self):\n",
        "        # return  self.model.best_params_\n",
        "        return self.model.get_params()\n",
        "\n",
        "    def plot_most_important_features(self, feature_names):\n",
        "        \n",
        "        feature_importance = self.model.feature_importances_\n",
        "        sorted_idx = feature_importance.argsort()\n",
        "        custom_palette = sns.color_palette(\"Purples\", n_colors=len(feature_importance))\n",
        "        plt.barh(range(len(sorted_idx)), feature_importance[sorted_idx], color = custom_palette)\n",
        "        plt.yticks(range(len(sorted_idx)), feature_names[sorted_idx])\n",
        "        plt.ylabel('Features')\n",
        "        plt.xlabel('Feature Importance')\n",
        "        plt.savefig('most_important.pdf', bbox_inches='tight')\n",
        "        plt.show()"
      ]
    },
    {
      "cell_type": "markdown",
      "metadata": {
        "id": "sxIdd2nUxONn"
      },
      "source": [
        "# Train"
      ]
    },
    {
      "cell_type": "code",
      "execution_count": 15,
      "metadata": {
        "colab": {
          "base_uri": "https://localhost:8080/",
          "height": 443
        },
        "id": "1Aen0OnfxNN7",
        "outputId": "1415fd52-9b5a-4d98-b824-8f5e13a10070"
      },
      "outputs": [],
      "source": [
        "# Random Forest\n",
        "rf_model = RandomForest(rf_params, verbose=True)\n",
        "rf_model.fit(X_normalized, y)\n",
        "\n",
        "# Extracting probabilities of the positive class\n",
        "rf_probe_y = rf_model.predict_proba(X_normalized)[:, 1]"
      ]
    },
    {
      "cell_type": "markdown",
      "metadata": {},
      "source": [
        "# Test"
      ]
    },
    {
      "cell_type": "code",
      "execution_count": 16,
      "metadata": {},
      "outputs": [
        {
          "data": {
            "text/plain": [
              "400"
            ]
          },
          "execution_count": 16,
          "metadata": {},
          "output_type": "execute_result"
        }
      ],
      "source": [
        "test_y_probs = rf_model.predict_proba(test_X_normalized)[:, 1]\n",
        "test_y_pred = [1 if prob >= 0.5 else 0 for prob in test_y_probs]\n",
        "len(test_y_pred)"
      ]
    },
    {
      "cell_type": "code",
      "execution_count": 17,
      "metadata": {},
      "outputs": [],
      "source": [
        "np.savetxt('predictions.csv',[test_y_pred],delimiter=',',fmt='%d') "
      ]
    },
    {
      "cell_type": "markdown",
      "metadata": {
        "id": "2396YwKXouY3"
      },
      "source": [
        "# Model Comparison"
      ]
    },
    {
      "cell_type": "code",
      "execution_count": 18,
      "metadata": {
        "id": "f_tOqmeELTUo"
      },
      "outputs": [],
      "source": [
        "from sklearn.metrics import roc_curve, auc\n",
        "def evaluate(y_true_list, y_probs_list, verbose = False):\n",
        "\n",
        "  accuracy = []\n",
        "  precision = []\n",
        "  recall = []\n",
        "  f1 = []\n",
        "  cm = []\n",
        "  fpr_list, tpr_list = [], []\n",
        "  # clas = []\n",
        "  for k, (y_true, y_probs) in enumerate(zip(y_true_list, y_probs_list)):\n",
        "    y_pred = [1 if prob >= 0.5 else 0 for prob in y_probs]\n",
        "    cm.append(confusion_matrix(y_true, y_pred))\n",
        "    accuracy.append(accuracy_score(y_true, y_pred))\n",
        "    precision.append(precision_score(y_true, y_pred))\n",
        "    recall.append(recall_score(y_true, y_pred))\n",
        "    f1.append(f1_score(y_true, y_pred))\n",
        "    fpr, tpr, thresholds = roc_curve(y_true, y_probs)\n",
        "    # fpr_list.append(fpr)\n",
        "    # tpr_list.append(tpr)\n",
        "    # clas.append(classification_report(y_true, y_pred))\n",
        "    if verbose:\n",
        "      print('')\n",
        "      print(f\"for {k}th iteration:\")\n",
        "      print(\"Confusion Matrix:\")\n",
        "      print(cm[-1])\n",
        "      print(f\"> Accuracy: {accuracy[-1]}\")\n",
        "      print(f\"> Precision: {precision[-1]}\")\n",
        "      print(f\"> Recall: {recall[-1]}\")\n",
        "      print(f\"> F1 Score: {f1[-1]}\")\n",
        "      # print(f\"> Report: {clas[-1]}\")\n",
        "\n",
        "\n",
        "  # Calculate the mean and standard deviation of each metric\n",
        "    mean_cm = np.mean(cm ,axis = 0)\n",
        "    mean_accuracy = np.mean(accuracy)\n",
        "    mean_precision = np.mean(precision)\n",
        "    mean_recall = np.mean(recall)\n",
        "    mean_f1 = np.mean(f1)\n",
        "    # mean_fpr = np.mean(fpr_list, axis = 0)\n",
        "    # mean_fpr[-1] = 1\n",
        "    # mean_tpr = np.mean(tpr_list, axis = 0)\n",
        "    # mean_fpr[-1] = 1\n",
        "\n",
        "    if verbose:\n",
        "      # Print or use the mean values as overall performance metrics\n",
        "      print(f\"Mean Accuracy: {mean_accuracy:.4f}\")\n",
        "      print(f\"Mean Precision: {mean_precision:.4f}\")\n",
        "      print(f\"Mean Recall: {mean_recall:.4f}\")\n",
        "      print(f\"Mean F1 Score: {mean_f1:.4f}\")\n",
        "  return mean_cm, mean_accuracy, mean_precision, mean_recall, mean_f1, fpr, tpr"
      ]
    },
    {
      "cell_type": "code",
      "execution_count": 19,
      "metadata": {
        "id": "gkJVl7mfSlaK"
      },
      "outputs": [
        {
          "name": "stdout",
          "output_type": "stream",
          "text": [
            "\n",
            "for 0th iteration:\n",
            "Confusion Matrix:\n",
            "[[1275   37]\n",
            " [   3  285]]\n",
            "> Accuracy: 0.975\n",
            "> Precision: 0.8850931677018633\n",
            "> Recall: 0.9895833333333334\n",
            "> F1 Score: 0.9344262295081968\n",
            "Mean Accuracy: 0.9750\n",
            "Mean Precision: 0.8851\n",
            "Mean Recall: 0.9896\n",
            "Mean F1 Score: 0.9344\n"
          ]
        }
      ],
      "source": [
        "rf_results = evaluate([y], [rf_probe_y], True)"
      ]
    }
  ],
  "metadata": {
    "colab": {
      "collapsed_sections": [
        "VBt925E6l8v1",
        "fIIS4pEGWZl5",
        "w3zqYv4PxlTI",
        "Nyz-MAuUeuGC",
        "2qE4ZPchwjsA",
        "gFJAqRgn1R_i"
      ],
      "provenance": [],
      "toc_visible": true
    },
    "kernelspec": {
      "display_name": "etteplan",
      "language": "python",
      "name": "python3"
    },
    "language_info": {
      "codemirror_mode": {
        "name": "ipython",
        "version": 3
      },
      "file_extension": ".py",
      "mimetype": "text/x-python",
      "name": "python",
      "nbconvert_exporter": "python",
      "pygments_lexer": "ipython3",
      "version": "3.11.9"
    }
  },
  "nbformat": 4,
  "nbformat_minor": 0
}
